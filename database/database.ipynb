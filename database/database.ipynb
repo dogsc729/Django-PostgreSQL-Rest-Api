{
 "cells": [
  {
   "cell_type": "code",
   "execution_count": 1,
   "metadata": {},
   "outputs": [],
   "source": [
    "import pandas as pd\n",
    "import json"
   ]
  },
  {
   "cell_type": "code",
   "execution_count": 2,
   "metadata": {},
   "outputs": [],
   "source": [
    "with open('../levelsFYI_crawler/data/levelsFYI.json', 'r') as f:\n",
    "    data = json.loads(f.read())\n",
    "\n",
    "data = pd.json_normalize(data, max_level=1)"
   ]
  },
  {
   "cell_type": "code",
   "execution_count": 3,
   "metadata": {},
   "outputs": [],
   "source": [
    "def raceFunc(s):\n",
    "    if s is None:return 'null'\n",
    "    try:\n",
    "        if 'Race' in s: \n",
    "            return s.split('Race: ', 1)[1].split(',')[0]\n",
    "    except:\n",
    "        return 'null'"
   ]
  },
  {
   "cell_type": "code",
   "execution_count": 4,
   "metadata": {},
   "outputs": [],
   "source": [
    "def acaFunc(s):\n",
    "    if s is None: return 'null'\n",
    "    if 'Academic Level' in s: \n",
    "        if 'Bachelor' in s: return 'Bachelor'\n",
    "        elif 'Master' in s: return 'Master'\n",
    "        else:\n",
    "            return s.split('Academic Level: ', 1)[1].split(',')[0]"
   ]
  },
  {
   "cell_type": "code",
   "execution_count": 5,
   "metadata": {},
   "outputs": [],
   "source": [
    "def remoteFunc(s):\n",
    "    if s is None: return 'no'\n",
    "    if 'Remote' in s: return 'yes'"
   ]
  },
  {
   "cell_type": "code",
   "execution_count": 6,
   "metadata": {},
   "outputs": [],
   "source": [
    "data['Remote'] = data['otherdetails'].apply(remoteFunc)\n",
    "data['Academic Level'] = data['otherdetails'].apply(acaFunc)\n",
    "data['Race'] = data['otherdetails'].apply(raceFunc)"
   ]
  },
  {
   "cell_type": "code",
   "execution_count": 62,
   "metadata": {},
   "outputs": [
    {
     "data": {
      "text/plain": [
       "[{'timestamp': '2021-10-25T09:45:07.000Z',\n",
       "  'level': 'Senior',\n",
       "  'totalyearlycompensation': 4400.0,\n",
       "  'location': 'benga, ka, india',\n",
       "  'yearsofexperience': 6.0,\n",
       "  'yearsatcompany': 1.0,\n",
       "  'tag': 'Web Development (Front-End)',\n",
       "  'basesalary': 3700.0,\n",
       "  'stockgrantvalue': 500.0,\n",
       "  'bonus': 200.0,\n",
       "  'gender': None,\n",
       "  'company.name': 'Unacademy',\n",
       "  'company.icon': 'https://logo.clearbit.com/unacademy.com',\n",
       "  'company.registered': True,\n",
       "  'Remote': None,\n",
       "  'Academic Level': None,\n",
       "  'Race': None},\n",
       " {'timestamp': '2021-10-25T09:36:13.000Z',\n",
       "  'level': 'SDE II',\n",
       "  'totalyearlycompensation': 48.0,\n",
       "  'location': 'Moscow, MC, Russia',\n",
       "  'yearsofexperience': 5.0,\n",
       "  'yearsatcompany': 0.0,\n",
       "  'tag': 'Distributed Systems (Back-End)',\n",
       "  'basesalary': 43.0,\n",
       "  'stockgrantvalue': 0.0,\n",
       "  'bonus': 5.0,\n",
       "  'gender': 'male',\n",
       "  'company.name': 'Tinkoff Bank',\n",
       "  'company.icon': 'https://logo.clearbit.com/tinkoffgroup.com',\n",
       "  'company.registered': True,\n",
       "  'Remote': None,\n",
       "  'Academic Level': 'Master',\n",
       "  'Race': 'White'},\n",
       " {'timestamp': '2021-10-25T09:06:18.000Z',\n",
       "  'level': '28',\n",
       "  'totalyearlycompensation': 93.0,\n",
       "  'location': 'Dublin, DN, Ireland',\n",
       "  'yearsofexperience': 5.0,\n",
       "  'yearsatcompany': 3.0,\n",
       "  'tag': 'Rps',\n",
       "  'basesalary': 90.0,\n",
       "  'stockgrantvalue': 0.0,\n",
       "  'bonus': 3.0,\n",
       "  'gender': 'female',\n",
       "  'company.name': 'Optum',\n",
       "  'company.icon': 'https://logo.clearbit.com/optum.com',\n",
       "  'company.registered': True,\n",
       "  'Remote': None,\n",
       "  'Academic Level': 'Bachelor',\n",
       "  'Race': 'White'},\n",
       " {'timestamp': '2021-10-25T08:33:10.000Z',\n",
       "  'level': 'Analyst',\n",
       "  'totalyearlycompensation': 49.0,\n",
       "  'location': 'Bengaluru, KA, India',\n",
       "  'yearsofexperience': 0.0,\n",
       "  'yearsatcompany': 0.0,\n",
       "  'tag': 'Quantitative Engineer',\n",
       "  'basesalary': 32.0,\n",
       "  'stockgrantvalue': 0.0,\n",
       "  'bonus': 17.0,\n",
       "  'gender': 'male',\n",
       "  'company.name': 'Goldman Sachs',\n",
       "  'company.icon': 'https://logo.clearbit.com/goldmansachs.com',\n",
       "  'company.registered': True,\n",
       "  'Remote': None,\n",
       "  'Academic Level': 'Master',\n",
       "  'Race': 'Asian'}]"
      ]
     },
     "execution_count": 62,
     "metadata": {},
     "output_type": "execute_result"
    }
   ],
   "source": [
    "data[:4]"
   ]
  },
  {
   "cell_type": "code",
   "execution_count": 8,
   "metadata": {},
   "outputs": [],
   "source": [
    "data = data.drop(['uuid','title','otherdetails','cityid','dmaid'], axis=1)"
   ]
  },
  {
   "cell_type": "code",
   "execution_count": 60,
   "metadata": {},
   "outputs": [
    {
     "data": {
      "text/plain": [
       "[{'timestamp': '2021-10-25T09:45:07.000Z',\n",
       "  'level': 'Senior',\n",
       "  'totalyearlycompensation': 4400.0,\n",
       "  'location': 'benga, ka, india',\n",
       "  'yearsofexperience': 6.0,\n",
       "  'yearsatcompany': 1.0,\n",
       "  'tag': 'Web Development (Front-End)',\n",
       "  'basesalary': 3700.0,\n",
       "  'stockgrantvalue': 500.0,\n",
       "  'bonus': 200.0,\n",
       "  'gender': None,\n",
       "  'company.name': 'Unacademy',\n",
       "  'company.icon': 'https://logo.clearbit.com/unacademy.com',\n",
       "  'company.registered': True,\n",
       "  'Remote': None,\n",
       "  'Academic Level': None,\n",
       "  'Race': None},\n",
       " {'timestamp': '2021-10-25T09:36:13.000Z',\n",
       "  'level': 'SDE II',\n",
       "  'totalyearlycompensation': 48.0,\n",
       "  'location': 'Moscow, MC, Russia',\n",
       "  'yearsofexperience': 5.0,\n",
       "  'yearsatcompany': 0.0,\n",
       "  'tag': 'Distributed Systems (Back-End)',\n",
       "  'basesalary': 43.0,\n",
       "  'stockgrantvalue': 0.0,\n",
       "  'bonus': 5.0,\n",
       "  'gender': 'male',\n",
       "  'company.name': 'Tinkoff Bank',\n",
       "  'company.icon': 'https://logo.clearbit.com/tinkoffgroup.com',\n",
       "  'company.registered': True,\n",
       "  'Remote': None,\n",
       "  'Academic Level': 'Master',\n",
       "  'Race': 'White'},\n",
       " {'timestamp': '2021-10-25T09:06:18.000Z',\n",
       "  'level': '28',\n",
       "  'totalyearlycompensation': 93.0,\n",
       "  'location': 'Dublin, DN, Ireland',\n",
       "  'yearsofexperience': 5.0,\n",
       "  'yearsatcompany': 3.0,\n",
       "  'tag': 'Rps',\n",
       "  'basesalary': 90.0,\n",
       "  'stockgrantvalue': 0.0,\n",
       "  'bonus': 3.0,\n",
       "  'gender': 'female',\n",
       "  'company.name': 'Optum',\n",
       "  'company.icon': 'https://logo.clearbit.com/optum.com',\n",
       "  'company.registered': True,\n",
       "  'Remote': None,\n",
       "  'Academic Level': 'Bachelor',\n",
       "  'Race': 'White'},\n",
       " {'timestamp': '2021-10-25T08:33:10.000Z',\n",
       "  'level': 'Analyst',\n",
       "  'totalyearlycompensation': 49.0,\n",
       "  'location': 'Bengaluru, KA, India',\n",
       "  'yearsofexperience': 0.0,\n",
       "  'yearsatcompany': 0.0,\n",
       "  'tag': 'Quantitative Engineer',\n",
       "  'basesalary': 32.0,\n",
       "  'stockgrantvalue': 0.0,\n",
       "  'bonus': 17.0,\n",
       "  'gender': 'male',\n",
       "  'company.name': 'Goldman Sachs',\n",
       "  'company.icon': 'https://logo.clearbit.com/goldmansachs.com',\n",
       "  'company.registered': True,\n",
       "  'Remote': None,\n",
       "  'Academic Level': 'Master',\n",
       "  'Race': 'Asian'},\n",
       " {'timestamp': '2021-10-25T07:50:19.000Z',\n",
       "  'level': 'IC-3',\n",
       "  'totalyearlycompensation': 350.0,\n",
       "  'location': 'Seattle, WA',\n",
       "  'yearsofexperience': 5.0,\n",
       "  'yearsatcompany': 2.0,\n",
       "  'tag': 'Distributed Systems (Back-End)',\n",
       "  'basesalary': 165.0,\n",
       "  'stockgrantvalue': 175.0,\n",
       "  'bonus': 10.0,\n",
       "  'gender': None,\n",
       "  'company.name': 'Oracle',\n",
       "  'company.icon': 'https://logo.clearbit.com/oracle.com',\n",
       "  'company.registered': True,\n",
       "  'Remote': None,\n",
       "  'Academic Level': None,\n",
       "  'Race': None}]"
      ]
     },
     "execution_count": 60,
     "metadata": {},
     "output_type": "execute_result"
    }
   ],
   "source": [
    "data[:5]"
   ]
  },
  {
   "cell_type": "code",
   "execution_count": 10,
   "metadata": {},
   "outputs": [],
   "source": [
    "data.to_csv('data.csv', header=False, index=False)"
   ]
  },
  {
   "cell_type": "code",
   "execution_count": 11,
   "metadata": {},
   "outputs": [],
   "source": [
    "data = data.to_dict(orient='records')"
   ]
  },
  {
   "cell_type": "code",
   "execution_count": 61,
   "metadata": {},
   "outputs": [
    {
     "data": {
      "text/plain": [
       "[{'timestamp': '2021-10-25T09:45:07.000Z',\n",
       "  'level': 'Senior',\n",
       "  'totalyearlycompensation': 4400.0,\n",
       "  'location': 'benga, ka, india',\n",
       "  'yearsofexperience': 6.0,\n",
       "  'yearsatcompany': 1.0,\n",
       "  'tag': 'Web Development (Front-End)',\n",
       "  'basesalary': 3700.0,\n",
       "  'stockgrantvalue': 500.0,\n",
       "  'bonus': 200.0,\n",
       "  'gender': None,\n",
       "  'company.name': 'Unacademy',\n",
       "  'company.icon': 'https://logo.clearbit.com/unacademy.com',\n",
       "  'company.registered': True,\n",
       "  'Remote': None,\n",
       "  'Academic Level': None,\n",
       "  'Race': None},\n",
       " {'timestamp': '2021-10-25T09:36:13.000Z',\n",
       "  'level': 'SDE II',\n",
       "  'totalyearlycompensation': 48.0,\n",
       "  'location': 'Moscow, MC, Russia',\n",
       "  'yearsofexperience': 5.0,\n",
       "  'yearsatcompany': 0.0,\n",
       "  'tag': 'Distributed Systems (Back-End)',\n",
       "  'basesalary': 43.0,\n",
       "  'stockgrantvalue': 0.0,\n",
       "  'bonus': 5.0,\n",
       "  'gender': 'male',\n",
       "  'company.name': 'Tinkoff Bank',\n",
       "  'company.icon': 'https://logo.clearbit.com/tinkoffgroup.com',\n",
       "  'company.registered': True,\n",
       "  'Remote': None,\n",
       "  'Academic Level': 'Master',\n",
       "  'Race': 'White'},\n",
       " {'timestamp': '2021-10-25T09:06:18.000Z',\n",
       "  'level': '28',\n",
       "  'totalyearlycompensation': 93.0,\n",
       "  'location': 'Dublin, DN, Ireland',\n",
       "  'yearsofexperience': 5.0,\n",
       "  'yearsatcompany': 3.0,\n",
       "  'tag': 'Rps',\n",
       "  'basesalary': 90.0,\n",
       "  'stockgrantvalue': 0.0,\n",
       "  'bonus': 3.0,\n",
       "  'gender': 'female',\n",
       "  'company.name': 'Optum',\n",
       "  'company.icon': 'https://logo.clearbit.com/optum.com',\n",
       "  'company.registered': True,\n",
       "  'Remote': None,\n",
       "  'Academic Level': 'Bachelor',\n",
       "  'Race': 'White'},\n",
       " {'timestamp': '2021-10-25T08:33:10.000Z',\n",
       "  'level': 'Analyst',\n",
       "  'totalyearlycompensation': 49.0,\n",
       "  'location': 'Bengaluru, KA, India',\n",
       "  'yearsofexperience': 0.0,\n",
       "  'yearsatcompany': 0.0,\n",
       "  'tag': 'Quantitative Engineer',\n",
       "  'basesalary': 32.0,\n",
       "  'stockgrantvalue': 0.0,\n",
       "  'bonus': 17.0,\n",
       "  'gender': 'male',\n",
       "  'company.name': 'Goldman Sachs',\n",
       "  'company.icon': 'https://logo.clearbit.com/goldmansachs.com',\n",
       "  'company.registered': True,\n",
       "  'Remote': None,\n",
       "  'Academic Level': 'Master',\n",
       "  'Race': 'Asian'},\n",
       " {'timestamp': '2021-10-25T07:50:19.000Z',\n",
       "  'level': 'IC-3',\n",
       "  'totalyearlycompensation': 350.0,\n",
       "  'location': 'Seattle, WA',\n",
       "  'yearsofexperience': 5.0,\n",
       "  'yearsatcompany': 2.0,\n",
       "  'tag': 'Distributed Systems (Back-End)',\n",
       "  'basesalary': 165.0,\n",
       "  'stockgrantvalue': 175.0,\n",
       "  'bonus': 10.0,\n",
       "  'gender': None,\n",
       "  'company.name': 'Oracle',\n",
       "  'company.icon': 'https://logo.clearbit.com/oracle.com',\n",
       "  'company.registered': True,\n",
       "  'Remote': None,\n",
       "  'Academic Level': None,\n",
       "  'Race': None}]"
      ]
     },
     "execution_count": 61,
     "metadata": {},
     "output_type": "execute_result"
    }
   ],
   "source": [
    "data[:5]"
   ]
  },
  {
   "cell_type": "code",
   "execution_count": 21,
   "metadata": {},
   "outputs": [],
   "source": [
    "import requests"
   ]
  },
  {
   "cell_type": "code",
   "execution_count": 49,
   "metadata": {},
   "outputs": [],
   "source": [
    "r = requests.post('http://127.0.0.1:8000/data/', json=tess)"
   ]
  },
  {
   "cell_type": "code",
   "execution_count": 43,
   "metadata": {},
   "outputs": [
    {
     "data": {
      "text/plain": [
       "'https://logo.clearbit.com/unacademy.com'"
      ]
     },
     "execution_count": 43,
     "metadata": {},
     "output_type": "execute_result"
    }
   ],
   "source": [
    "r.json()"
   ]
  },
  {
   "cell_type": "code",
   "execution_count": 58,
   "metadata": {},
   "outputs": [],
   "source": [
    "num =0"
   ]
  },
  {
   "cell_type": "code",
   "execution_count": 59,
   "metadata": {},
   "outputs": [
    {
     "name": "stdout",
     "output_type": "stream",
     "text": [
      "12089\n"
     ]
    }
   ],
   "source": [
    "\n",
    "for i in data:\n",
    "    r = requests.post('http://127.0.0.1:8000/data/', json=i)\n",
    "    num += 1\n",
    "    if(r.status_code != 201): \n",
    "        print(num)\n",
    "        break\n",
    "    "
   ]
  }
 ],
 "metadata": {
  "interpreter": {
   "hash": "5a5b0a49b514b2c81dfe2e69df9206855ff3836d7c72033245cbe1bf70796381"
  },
  "kernelspec": {
   "display_name": "Python 3.9.6 64-bit",
   "name": "python3"
  },
  "language_info": {
   "codemirror_mode": {
    "name": "ipython",
    "version": 3
   },
   "file_extension": ".py",
   "mimetype": "text/x-python",
   "name": "python",
   "nbconvert_exporter": "python",
   "pygments_lexer": "ipython3",
   "version": "3.9.6"
  },
  "orig_nbformat": 4
 },
 "nbformat": 4,
 "nbformat_minor": 2
}
